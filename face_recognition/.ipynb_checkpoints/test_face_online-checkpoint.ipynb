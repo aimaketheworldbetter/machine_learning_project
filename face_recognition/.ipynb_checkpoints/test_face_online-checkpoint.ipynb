{
 "cells": [
  {
   "cell_type": "code",
   "execution_count": 7,
   "metadata": {},
   "outputs": [],
   "source": [
    "import numpy as np\n",
    "import cv2\n",
    "import dlib\n",
    "import time"
   ]
  },
  {
   "cell_type": "code",
   "execution_count": 8,
   "metadata": {},
   "outputs": [],
   "source": [
    "#face 68 key points detect model file path\n",
    "predictor_path = 'shape_predictor_68_face_landmarks.dat'\n",
    "#face recognition model file path\n",
    "face_rec_model_path = 'dlib_face_recognition_resnet_model_v1.dat'\n",
    "#candidate files\n",
    "candidate_npydata_path = 'candidates.npy'\n",
    "candidate_path = 'candidates.txt'\n",
    "#load face recogition detector\n",
    "detector = dlib.get_frontal_face_detector()\n",
    "#load 68 key points detector\n",
    "key_points_68 = dlib.shape_predictor(predictor_path)\n",
    "#load face recognition model v1\n",
    "face_rec = dlib.face_recognition_model_v1(face_rec_model_path)\n",
    "#read condidate data to numpy array\n",
    "npy_data = np.load(candidate_npydata_path)\n",
    "descriptors = npy_data.tolist()\n",
    "#read condidate name list\n",
    "candidate = []\n",
    "with open(candidate_path, 'r') as f:\n",
    "    list_read = f.readlines()\n",
    "for name in list_read:\n",
    "    name = name.strip('\\n')\n",
    "    candidate.append(name)"
   ]
  },
  {
   "cell_type": "code",
   "execution_count": 9,
   "metadata": {},
   "outputs": [],
   "source": [
    "#create cv2 camera object\n",
    "cv2.namedWindow('camera', 1)\n",
    "cap = cv2.VideoCapture(0)\n",
    "cap.set(3, 480)\n",
    "#snapshot count\n",
    "cnt = 0\n",
    "while(cap.isOpened()):  #check camera is open or not\n",
    "    ret, img = cap.read()  #store the camera image as img\n",
    "    if ret == True: # camera image read successfully\n",
    "        cv2.putText(img, \"press 's': screenshot\", (20, 400), cv2.FONT_HERSHEY_PLAIN, 1, (255, 255, 255), 1, cv2.LINE_AA)\n",
    "        cv2.putText(img, \"press 'q': quit\", (20, 450), cv2.FONT_HERSHEY_PLAIN, 1, (255, 255, 255), 1, cv2.LINE_AA)\n",
    "        #get the rectangle of the faces\n",
    "        dets = detector(img, 1)\n",
    "        if len(dets) != 0: #get faces\n",
    "            for _, d in enumerate(dets):\n",
    "                shape = key_points_68(img, d)\n",
    "                #draw 68 points\n",
    "                for pt in shape.parts():\n",
    "                    pt_pos = (pt.x, pt.y)\n",
    "                    cv2.circle(img, pt_pos, 2, (0, 255, 0), 1)\n",
    "                face_descriptor = face_rec.compute_face_descriptor(img, shape)\n",
    "                d_test2 = np.array(face_descriptor)\n",
    "                dist = []\n",
    "                for i in descriptors:\n",
    "                    dist_ = np.linalg.norm(i - d_test2)\n",
    "                    dist.append(dist_)\n",
    "                    #get the index of the\n",
    "                num = dist.index(min(dist))\n",
    "                #print(num)\n",
    "                #get left_top and right_bottom to draw the rectangle\n",
    "                left_top = (dlib.rectangle.left(d), dlib.rectangle.top(d))\n",
    "                right_bottom = (dlib.rectangle.right(d), dlib.rectangle.bottom(d))\n",
    "                #draw the rectangle\n",
    "                cv2.rectangle(img, left_top, right_bottom, (0, 255, 0), 2, cv2.LINE_AA)\n",
    "                text_point = (dlib.rectangle.left(d), dlib.rectangle.top(d)-5)\n",
    "                #draw the text\n",
    "                cv2.putText(img, candidate[num], text_point, cv2.FONT_HERSHEY_PLAIN, 2.0, (255, 255, 255), 1, 1)\n",
    "            cv2.putText(img, 'faceNum:'+str(len(dets)),(20, 50), cv2.FONT_HERSHEY_PLAIN, 1.5, (0, 0, 0), 2, cv2.LINE_AA)\n",
    "        else:#no face recognized\n",
    "            cv2.putText(img, 'faceNum:0',(20, 50), cv2.FONT_HERSHEY_PLAIN, 1.5, (0, 0, 0), 2, cv2.LINE_AA)\n",
    "        k = cv2.waitKey(1)\n",
    "        #s\n",
    "        if k == ord('s'):\n",
    "            cnt += 1\n",
    "            cv2.imwrite('screenshot'+'_'+str(cnt)+'_'+time.strftime('%Y-%m-%d-%H-%M-%S', time.localtime())+'.jpg')\n",
    "        #q\n",
    "        if k == ord('q'):\n",
    "            break\n",
    "        cv2.imshow('camera', img)\n",
    "cap.release()\n",
    "cv2.destroyAllWindows()"
   ]
  },
  {
   "cell_type": "code",
   "execution_count": null,
   "metadata": {},
   "outputs": [],
   "source": []
  }
 ],
 "metadata": {
  "kernelspec": {
   "display_name": "Python 3",
   "language": "python",
   "name": "python3"
  },
  "language_info": {
   "codemirror_mode": {
    "name": "ipython",
    "version": 3
   },
   "file_extension": ".py",
   "mimetype": "text/x-python",
   "name": "python",
   "nbconvert_exporter": "python",
   "pygments_lexer": "ipython3",
   "version": "3.6.7"
  }
 },
 "nbformat": 4,
 "nbformat_minor": 2
}
