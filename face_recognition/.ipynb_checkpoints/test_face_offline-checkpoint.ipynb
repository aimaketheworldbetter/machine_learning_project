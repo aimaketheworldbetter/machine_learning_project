{
 "cells": [
  {
   "cell_type": "code",
   "execution_count": 1,
   "metadata": {},
   "outputs": [],
   "source": [
    "import numpy as np\n",
    "import dlib\n",
    "import cv2"
   ]
  },
  {
   "cell_type": "code",
   "execution_count": 2,
   "metadata": {},
   "outputs": [],
   "source": [
    "#picture waiting for recognition\n",
    "img_path = 'all.jpg'"
   ]
  },
  {
   "cell_type": "code",
   "execution_count": 3,
   "metadata": {},
   "outputs": [],
   "source": [
    "#face 68 key points detect model file path\n",
    "predictor_path = 'shape_predictor_68_face_landmarks.dat'"
   ]
  },
  {
   "cell_type": "code",
   "execution_count": 4,
   "metadata": {},
   "outputs": [],
   "source": [
    "#face recognition model file path\n",
    "face_rec_model_path = 'dlib_face_recognition_resnet_model_v1.dat'"
   ]
  },
  {
   "cell_type": "code",
   "execution_count": 5,
   "metadata": {},
   "outputs": [],
   "source": [
    "#candidate files\n",
    "candidate_npydata_path = 'candidates.npy'\n",
    "candidate_path = 'candidates.txt'"
   ]
  },
  {
   "cell_type": "code",
   "execution_count": 6,
   "metadata": {},
   "outputs": [],
   "source": [
    "#load face recogition detector\n",
    "detector = dlib.get_frontal_face_detector()"
   ]
  },
  {
   "cell_type": "code",
   "execution_count": 7,
   "metadata": {},
   "outputs": [],
   "source": [
    "#load 68 key points detector\n",
    "key_points_68 = dlib.shape_predictor(predictor_path)"
   ]
  },
  {
   "cell_type": "code",
   "execution_count": 8,
   "metadata": {},
   "outputs": [],
   "source": [
    "#load face recognition model v1\n",
    "face_rec = dlib.face_recognition_model_v1(face_rec_model_path)"
   ]
  },
  {
   "cell_type": "code",
   "execution_count": 9,
   "metadata": {},
   "outputs": [],
   "source": [
    "#read condidate data to numpy array\n",
    "npy_data = np.load(candidate_npydata_path)\n",
    "descriptors = npy_data.tolist()"
   ]
  },
  {
   "cell_type": "code",
   "execution_count": 10,
   "metadata": {},
   "outputs": [],
   "source": [
    "#read condidate name list\n",
    "candidate = []\n",
    "with open(candidate_path, 'r') as f:\n",
    "    list_read = f.readlines()\n",
    "for name in list_read:\n",
    "    name = name.strip('\\n')\n",
    "    candidate.append(name)"
   ]
  },
  {
   "cell_type": "code",
   "execution_count": 11,
   "metadata": {},
   "outputs": [
    {
     "data": {
      "text/plain": [
       "['0026_IR_frontface',\n",
       " '0012_IR_frontface',\n",
       " '0020_IR_frontface',\n",
       " '0017_IR_frontface',\n",
       " '0014_IR_frontface',\n",
       " '0025_IR_frontface',\n",
       " '0015_IR_frontface',\n",
       " '0021_IR_frontface',\n",
       " '0013_IR_frontface',\n",
       " '0022_IR_frontface',\n",
       " '0018_IR_frontface',\n",
       " '0009_IR_frontface',\n",
       " '0002_IR_frontface',\n",
       " '0029_IR_frontface',\n",
       " '0028_IR_frontface',\n",
       " '0016_IR_frontface',\n",
       " '0010_IR_frontface',\n",
       " '0001_IR_frontface',\n",
       " '0027_IR_frontface',\n",
       " '0007_IR_frontface',\n",
       " '0003_IR_frontface',\n",
       " 'shiwenjia',\n",
       " '0023_IR_frontface',\n",
       " '0008_IR_frontface',\n",
       " 'wangmeng',\n",
       " '0011_IR_frontface',\n",
       " '0005_IR_frontface',\n",
       " '0004_IR_frontface',\n",
       " '0019_IR_frontface',\n",
       " '0006_IR_frontface',\n",
       " '0024_IR_frontface']"
      ]
     },
     "execution_count": 11,
     "metadata": {},
     "output_type": "execute_result"
    }
   ],
   "source": [
    "candidate"
   ]
  },
  {
   "cell_type": "code",
   "execution_count": 12,
   "metadata": {},
   "outputs": [
    {
     "name": "stdout",
     "output_type": "stream",
     "text": [
      "Processing file: all.jpg\n"
     ]
    }
   ],
   "source": [
    "print('Processing file: {}'.format(img_path))"
   ]
  },
  {
   "cell_type": "code",
   "execution_count": 13,
   "metadata": {},
   "outputs": [],
   "source": [
    "#read image\n",
    "img = cv2.imread(img_path)"
   ]
  },
  {
   "cell_type": "code",
   "execution_count": 14,
   "metadata": {},
   "outputs": [
    {
     "data": {
      "text/plain": [
       "(640, 585, 3)"
      ]
     },
     "execution_count": 14,
     "metadata": {},
     "output_type": "execute_result"
    }
   ],
   "source": [
    "img.shape"
   ]
  },
  {
   "cell_type": "code",
   "execution_count": 15,
   "metadata": {},
   "outputs": [
    {
     "name": "stdout",
     "output_type": "stream",
     "text": [
      "Number of faces detected: 2\n",
      "rectangles[[(285, 166) (374, 255)], [(185, 186) (275, 275)]]\n"
     ]
    }
   ],
   "source": [
    "dets = detector(img, 1)\n",
    "print('Number of faces detected: {}'.format(len(dets)))\n",
    "print(dets)"
   ]
  },
  {
   "cell_type": "code",
   "execution_count": 17,
   "metadata": {},
   "outputs": [
    {
     "name": "stdout",
     "output_type": "stream",
     "text": [
      "24\n",
      "21\n"
     ]
    }
   ],
   "source": [
    "#detect the key points\n",
    "for _, d in enumerate(dets):\n",
    "    shape = key_points_68(img, d)\n",
    "    face_descriptor = face_rec.compute_face_descriptor(img, shape)\n",
    "    d_test = np.array(face_descriptor)\n",
    "    #compute the ocilid distance\n",
    "    dist = []\n",
    "    for i in descriptors:\n",
    "        dist_ = np.linalg.norm(i - d_test)\n",
    "        dist.append(dist_)\n",
    "        #get the index of the\n",
    "    num = dist.index(min(dist))\n",
    "    print(num)\n",
    "    #get left_top and right_bottom to draw the rectangle\n",
    "    left_top = (dlib.rectangle.left(d), dlib.rectangle.top(d))\n",
    "    right_bottom = (dlib.rectangle.right(d), dlib.rectangle.bottom(d))\n",
    "    #draw the rectangle\n",
    "    cv2.rectangle(img, left_top, right_bottom, (0, 255, 0), 2, cv2.LINE_AA)\n",
    "    text_point = (dlib.rectangle.left(d), dlib.rectangle.top(d)-5)\n",
    "    #draw the text\n",
    "    cv2.putText(img, candidate[num], text_point, cv2.FONT_HERSHEY_PLAIN, 2.0, (255, 0, 0), 2, 1)\n",
    "#show the image\n",
    "cv2.namedWindow('image', cv2.WINDOW_NORMAL)\n",
    "cv2.imshow('image', img)\n",
    "k = cv2.waitKey(0)\n",
    "#esc\n",
    "if k == 27:\n",
    "    cv2.destroyAllWindows()\n",
    "#s\n",
    "elif k == ord('s'):\n",
    "    cv2.imwrite('recognized_image.jpg', img)\n",
    "    cv2.destoryAllWindows()"
   ]
  },
  {
   "cell_type": "code",
   "execution_count": null,
   "metadata": {},
   "outputs": [],
   "source": []
  }
 ],
 "metadata": {
  "kernelspec": {
   "display_name": "Python 3",
   "language": "python",
   "name": "python3"
  },
  "language_info": {
   "codemirror_mode": {
    "name": "ipython",
    "version": 3
   },
   "file_extension": ".py",
   "mimetype": "text/x-python",
   "name": "python",
   "nbconvert_exporter": "python",
   "pygments_lexer": "ipython3",
   "version": "3.6.7"
  }
 },
 "nbformat": 4,
 "nbformat_minor": 2
}
