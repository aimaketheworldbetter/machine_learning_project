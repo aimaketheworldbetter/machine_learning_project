{
 "cells": [
  {
   "cell_type": "code",
   "execution_count": 1,
   "metadata": {},
   "outputs": [],
   "source": [
    "#make sure one picture only contains one face, if more then one, might be fault\n",
    "#import library\n",
    "import cv2\n",
    "import dlib\n",
    "import numpy as np\n",
    "import os"
   ]
  },
  {
   "cell_type": "code",
   "execution_count": 3,
   "metadata": {},
   "outputs": [],
   "source": [
    "#face 68 key points detect model file path\n",
    "predictor_path = 'shape_predictor_68_face_landmarks.dat'"
   ]
  },
  {
   "cell_type": "code",
   "execution_count": 4,
   "metadata": {},
   "outputs": [],
   "source": [
    "#face recognition model file path\n",
    "face_rec_model_path = 'dlib_face_recognition_resnet_model_v1.dat'"
   ]
  },
  {
   "cell_type": "code",
   "execution_count": 5,
   "metadata": {},
   "outputs": [],
   "source": [
    "#candidate-face folder path\n",
    "faces_folder_path = 'candidate-face'"
   ]
  },
  {
   "cell_type": "code",
   "execution_count": 6,
   "metadata": {},
   "outputs": [],
   "source": [
    "#load face recogition detector\n",
    "detector = dlib.get_frontal_face_detector()"
   ]
  },
  {
   "cell_type": "code",
   "execution_count": 7,
   "metadata": {},
   "outputs": [],
   "source": [
    "#load 68 key points detector\n",
    "key_points_68 = dlib.shape_predictor(predictor_path)"
   ]
  },
  {
   "cell_type": "code",
   "execution_count": 8,
   "metadata": {},
   "outputs": [],
   "source": [
    "#load face recognition model v1\n",
    "face_rec = dlib.face_recognition_model_v1(face_rec_model_path)"
   ]
  },
  {
   "cell_type": "code",
   "execution_count": 9,
   "metadata": {},
   "outputs": [],
   "source": [
    "#ccandidates description list\n",
    "candidates = []"
   ]
  },
  {
   "cell_type": "code",
   "execution_count": 13,
   "metadata": {},
   "outputs": [],
   "source": [
    "#list all files\n",
    "filelist = os.listdir(faces_folder_path)"
   ]
  },
  {
   "cell_type": "code",
   "execution_count": 14,
   "metadata": {},
   "outputs": [
    {
     "data": {
      "text/plain": [
       "['0026_IR_frontface.jpg',\n",
       " '0012_IR_frontface.jpg',\n",
       " '0020_IR_frontface.jpg',\n",
       " '0017_IR_frontface.jpg',\n",
       " '0014_IR_frontface.jpg',\n",
       " '0025_IR_frontface.jpg',\n",
       " '0015_IR_frontface.jpg',\n",
       " '0021_IR_frontface.jpg',\n",
       " '0013_IR_frontface.jpg',\n",
       " '0022_IR_frontface.jpg',\n",
       " '0018_IR_frontface.jpg',\n",
       " '0009_IR_frontface.jpg',\n",
       " '0002_IR_frontface.jpg',\n",
       " '0029_IR_frontface.jpg',\n",
       " '0028_IR_frontface.jpg',\n",
       " '0016_IR_frontface.jpg',\n",
       " '0010_IR_frontface.jpg',\n",
       " '0001_IR_frontface.jpg',\n",
       " '0027_IR_frontface.jpg',\n",
       " '0007_IR_frontface.jpg',\n",
       " '0003_IR_frontface.jpg',\n",
       " 'shiwenjia.jpeg',\n",
       " '0023_IR_frontface.jpg',\n",
       " '0008_IR_frontface.jpg',\n",
       " 'wangmeng.jpeg',\n",
       " '0011_IR_frontface.jpg',\n",
       " '0005_IR_frontface.jpg',\n",
       " '0004_IR_frontface.jpg',\n",
       " '0019_IR_frontface.jpg',\n",
       " '0006_IR_frontface.jpg',\n",
       " '0024_IR_frontface.jpg']"
      ]
     },
     "execution_count": 14,
     "metadata": {},
     "output_type": "execute_result"
    }
   ],
   "source": [
    "filelist"
   ]
  },
  {
   "cell_type": "code",
   "execution_count": 15,
   "metadata": {},
   "outputs": [],
   "source": [
    "#counter\n",
    "count = 0"
   ]
  },
  {
   "cell_type": "code",
   "execution_count": 16,
   "metadata": {},
   "outputs": [],
   "source": [
    "for fn in filelist:\n",
    "    count += 1"
   ]
  },
  {
   "cell_type": "code",
   "execution_count": 17,
   "metadata": {},
   "outputs": [
    {
     "data": {
      "text/plain": [
       "31"
      ]
     },
     "execution_count": 17,
     "metadata": {},
     "output_type": "execute_result"
    }
   ],
   "source": [
    "count"
   ]
  },
  {
   "cell_type": "code",
   "execution_count": 19,
   "metadata": {},
   "outputs": [],
   "source": [
    "#initialize numpy array to store the face data\n",
    "descriptors = np.zeros(shape=(count, 128))"
   ]
  },
  {
   "cell_type": "code",
   "execution_count": 20,
   "metadata": {},
   "outputs": [
    {
     "data": {
      "text/plain": [
       "array([[0., 0., 0., ..., 0., 0., 0.],\n",
       "       [0., 0., 0., ..., 0., 0., 0.],\n",
       "       [0., 0., 0., ..., 0., 0., 0.],\n",
       "       ...,\n",
       "       [0., 0., 0., ..., 0., 0., 0.],\n",
       "       [0., 0., 0., ..., 0., 0., 0.],\n",
       "       [0., 0., 0., ..., 0., 0., 0.]])"
      ]
     },
     "execution_count": 20,
     "metadata": {},
     "output_type": "execute_result"
    }
   ],
   "source": [
    "descriptors"
   ]
  },
  {
   "cell_type": "code",
   "execution_count": 26,
   "metadata": {},
   "outputs": [],
   "source": [
    "n = 0"
   ]
  },
  {
   "cell_type": "code",
   "execution_count": 27,
   "metadata": {},
   "outputs": [
    {
     "name": "stdout",
     "output_type": "stream",
     "text": [
      "Processing file: candidate-face/0026_IR_frontface.jpg\n",
      "rectangles[[(438, 201) (706, 468)]]\n",
      "0026_IR_frontface\n",
      "Processing file: candidate-face/0012_IR_frontface.jpg\n",
      "rectangles[[(348, 170) (669, 491)]]\n",
      "0012_IR_frontface\n",
      "Processing file: candidate-face/0020_IR_frontface.jpg\n",
      "rectangles[[(526, 206) (847, 527)]]\n",
      "0020_IR_frontface\n",
      "Processing file: candidate-face/0017_IR_frontface.jpg\n",
      "rectangles[[(455, 313) (776, 634)]]\n",
      "0017_IR_frontface\n",
      "Processing file: candidate-face/0014_IR_frontface.jpg\n",
      "rectangles[[(419, 170) (740, 491)]]\n",
      "0014_IR_frontface\n",
      "Processing file: candidate-face/0025_IR_frontface.jpg\n",
      "rectangles[[(438, 231) (706, 498)]]\n",
      "0025_IR_frontface\n",
      "Processing file: candidate-face/0015_IR_frontface.jpg\n",
      "rectangles[[(491, 241) (812, 562)]]\n",
      "0015_IR_frontface\n",
      "Processing file: candidate-face/0021_IR_frontface.jpg\n",
      "rectangles[[(526, 313) (847, 634)]]\n",
      "0021_IR_frontface\n",
      "Processing file: candidate-face/0013_IR_frontface.jpg\n",
      "rectangles[[(455, 206) (776, 527)]]\n",
      "0013_IR_frontface\n",
      "Processing file: candidate-face/0022_IR_frontface.jpg\n",
      "rectangles[[(526, 277) (847, 598)]]\n",
      "0022_IR_frontface\n",
      "Processing file: candidate-face/0018_IR_frontface.jpg\n",
      "rectangles[[(468, 231) (735, 498)]]\n",
      "0018_IR_frontface\n",
      "Processing file: candidate-face/0009_IR_frontface.jpg\n",
      "rectangles[[(438, 260) (706, 528)]]\n",
      "0009_IR_frontface\n",
      "Processing file: candidate-face/0002_IR_frontface.jpg\n",
      "rectangles[[(409, 290) (676, 558)]]\n",
      "0002_IR_frontface\n",
      "Processing file: candidate-face/0029_IR_frontface.jpg\n",
      "rectangles[[(461, 119) (846, 504)]]\n",
      "0029_IR_frontface\n",
      "Processing file: candidate-face/0028_IR_frontface.jpg\n",
      "rectangles[[(455, 170) (776, 491)]]\n",
      "0028_IR_frontface\n",
      "Processing file: candidate-face/0016_IR_frontface.jpg\n",
      "rectangles[[(491, 170) (812, 491)]]\n",
      "0016_IR_frontface\n",
      "Processing file: candidate-face/0010_IR_frontface.jpg\n",
      "rectangles[[(419, 206) (740, 527)]]\n",
      "0010_IR_frontface\n",
      "Processing file: candidate-face/0001_IR_frontface.jpg\n",
      "rectangles[[(384, 277) (705, 598)]]\n",
      "0001_IR_frontface\n",
      "Processing file: candidate-face/0027_IR_frontface.jpg\n",
      "rectangles[[(438, 171) (706, 439)]]\n",
      "0027_IR_frontface\n",
      "Processing file: candidate-face/0007_IR_frontface.jpg\n",
      "rectangles[[(455, 241) (776, 562)]]\n",
      "0007_IR_frontface\n",
      "Processing file: candidate-face/0003_IR_frontface.jpg\n",
      "rectangles[[(409, 350) (676, 617)]]\n",
      "0003_IR_frontface\n",
      "Processing file: candidate-face/shiwenjia.jpeg\n",
      "rectangles[[(241, 217) (464, 440)]]\n",
      "shiwenjia\n",
      "Processing file: candidate-face/0023_IR_frontface.jpg\n",
      "rectangles[[(491, 170) (812, 491)]]\n",
      "0023_IR_frontface\n",
      "Processing file: candidate-face/0008_IR_frontface.jpg\n",
      "rectangles[[(419, 277) (740, 598)]]\n",
      "0008_IR_frontface\n",
      "Processing file: candidate-face/wangmeng.jpeg\n",
      "rectangles[[(200, 142) (468, 409)]]\n",
      "wangmeng\n",
      "Processing file: candidate-face/0011_IR_frontface.jpg\n",
      "rectangles[[(348, 241) (669, 562)]]\n",
      "0011_IR_frontface\n",
      "Processing file: candidate-face/0005_IR_frontface.jpg\n",
      "rectangles[[(419, 277) (740, 598)]]\n",
      "0005_IR_frontface\n",
      "Processing file: candidate-face/0004_IR_frontface.jpg\n",
      "rectangles[[(409, 290) (676, 558)]]\n",
      "0004_IR_frontface\n",
      "Processing file: candidate-face/0019_IR_frontface.jpg\n",
      "rectangles[[(455, 241) (776, 562)]]\n",
      "0019_IR_frontface\n",
      "Processing file: candidate-face/0006_IR_frontface.jpg\n",
      "rectangles[[(419, 206) (740, 527)]]\n",
      "0006_IR_frontface\n",
      "Processing file: candidate-face/0024_IR_frontface.jpg\n",
      "rectangles[[(438, 260) (706, 528)]]\n",
      "0024_IR_frontface\n"
     ]
    }
   ],
   "source": [
    "for file in filelist:\n",
    "    #join path to get full path for cv2 imread\n",
    "    f = os.path.join(faces_folder_path, file)\n",
    "    print('Processing file: {}'.format(f))\n",
    "    #read image\n",
    "    img = cv2.imread(f)\n",
    "    #detect face, output format: dets = rectangles[[(438, 201) (706, 468)]]   \n",
    "    dets = detector(img, 1)\n",
    "    print(dets)\n",
    "    #detect key points in detected face\n",
    "    shape = key_points_68(img, dets[0])\n",
    "    #get the 128D vector in key points\n",
    "    face_descriptor = face_rec.compute_face_descriptor(img, shape)\n",
    "    #change the data to numpy array\n",
    "    v = np.array(face_descriptor)\n",
    "    #print(v)\n",
    "    #store vector\n",
    "    descriptors[n] = v\n",
    "    #store candidate name\n",
    "    print(os.path.splitext(file)[0])\n",
    "    candidates.append(os.path.splitext(file)[0])\n",
    "    #get left_top and right_bottom to draw the rectangle\n",
    "    left_top = (dlib.rectangle.left(dets[0]), dlib.rectangle.top(dets[0]))\n",
    "    right_bottom = (dlib.rectangle.right(dets[0]), dlib.rectangle.bottom(dets[0]))\n",
    "    #draw the rectangle\n",
    "    cv2.rectangle(img, left_top, right_bottom, (0, 255, 0), 2, cv2.LINE_AA)\n",
    "    n += 1"
   ]
  },
  {
   "cell_type": "code",
   "execution_count": 30,
   "metadata": {},
   "outputs": [],
   "source": [
    "np.save('candidates.npy', descriptors)\n",
    "file = open('candidates.txt', 'w')\n",
    "for candidate in candidates:\n",
    "    file.write(candidate)\n",
    "    file.write('\\n')\n",
    "file.close()"
   ]
  },
  {
   "cell_type": "code",
   "execution_count": null,
   "metadata": {},
   "outputs": [],
   "source": []
  }
 ],
 "metadata": {
  "kernelspec": {
   "display_name": "Python 3",
   "language": "python",
   "name": "python3"
  },
  "language_info": {
   "codemirror_mode": {
    "name": "ipython",
    "version": 3
   },
   "file_extension": ".py",
   "mimetype": "text/x-python",
   "name": "python",
   "nbconvert_exporter": "python",
   "pygments_lexer": "ipython3",
   "version": "3.6.7"
  }
 },
 "nbformat": 4,
 "nbformat_minor": 2
}
